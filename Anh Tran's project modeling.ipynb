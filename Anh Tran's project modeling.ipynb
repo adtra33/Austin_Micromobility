{
 "cells": [
  {
   "cell_type": "markdown",
   "id": "e717beb1",
   "metadata": {},
   "source": [
    "Import everything at one place"
   ]
  },
  {
   "cell_type": "code",
   "execution_count": null,
   "id": "00f764fd",
   "metadata": {},
   "outputs": [],
   "source": [
    "import numpy as np\n",
    "import matplotlib.pylab as plt\n",
    "import pandas as pd\n",
    "\n",
    "from sklearn.model_selection import train_test_split\n",
    "from sklearn import metrics\n",
    "import sklearn"
   ]
  },
  {
   "cell_type": "markdown",
   "id": "4c1e7ede",
   "metadata": {},
   "source": [
    "# First, load the dataset, 'y2020_temp_precip_percent_satisfactory.csv'"
   ]
  },
  {
   "cell_type": "code",
   "execution_count": null,
   "id": "28128156",
   "metadata": {},
   "outputs": [],
   "source": [
    "# y2020_temp_precip_percent_satisfactory.csv file can be stored from github or like below\n",
    "y2020_temp_precip_percent_satisfactory = pd.read_csv('/stor/work/SDS322E_AF_Fall2023/data/y2020_temp_precip_percent_satisfactory.csv') \n",
    "y2020_temp_precip_percent_satisfactory.head()"
   ]
  },
  {
   "cell_type": "markdown",
   "id": "537aecf7",
   "metadata": {},
   "source": [
    "# Prepare data:\n",
    "\n",
    "Focusing on 'Trip Distance' variable, guessing that the feature variables 'Average_Temperature', 'Tot_Precip', 'Percent.Satisfactory', 'Vehicle.Type' affect target variable 'Trip Distance' for ALL 3 types of vehicles OR only for each type of veicle at a time? Can \"vehicle type\" be a feature variable\"\n",
    "\n",
    "A \"sweet spot\" of 'Trip Duration' to indicate \"0\"(short distance/less favorable) and \"1\"(long distance/more favorable) is set to 900 meters in this case\n"
   ]
  },
  {
   "cell_type": "code",
   "execution_count": null,
   "id": "077e35c9",
   "metadata": {},
   "outputs": [],
   "source": [
    "#create a new column 'favorability', a binary variable:\n",
    "y2020_temp_precip_percent_satisfactory['favorability'] = np.where(y2020_temp_precip_percent_satisfactory['Trip Duration'] >= 900, 1, 0)\n",
    "\n",
    "y2020_temp_precip_percent_satisfactory.head()"
   ]
  },
  {
   "cell_type": "code",
   "execution_count": null,
   "id": "e340fcbf",
   "metadata": {},
   "outputs": [],
   "source": [
    "# define the dependent and indepedent variables????????????????????????????????????????????????????????????????\n",
    "features = ['Average_Temperature', 'Tot_Precip', 'Percent.Satisfactory', 'Vehicle.Type', 'Month2', 'DOW']\n",
    "target_variable = 'favorability'\n",
    "\n",
    "X = y2020_temp_precip_percent_satisfactory[features]\n",
    "y = y2020_temp_precip_percent_satisfactory[target_variable]\n",
    "\n",
    "# Split the data into training and testing sets\n",
    "X_train, X_test, y_train, y_test = train_test_split(X, y, test_size=0.2, random_state=42)"
   ]
  },
  {
   "cell_type": "markdown",
   "id": "2eac673f",
   "metadata": {},
   "source": [
    "# Training\n",
    "Using Neural Network and Random Forest Classififiers to traine datasets: "
   ]
  },
  {
   "cell_type": "code",
   "execution_count": null,
   "id": "8945f57e",
   "metadata": {},
   "outputs": [],
   "source": [
    "from sklearn.ensemble import RandomForestClassifier\n",
    "from sklearn.neural_network import MLPClassifier\n",
    "\n",
    "# Train the Random Forest model, CHECK TO SEE WHICH MAX_DEPTH TO USE??????????????????????????????????????????????????\n",
    "rf_model = RandomForestClassifier(max_depth=6)\n",
    "rf_model.fit(X_train, y_train)\n",
    "rf_predictions = rf_model.predict(X_test)  \n",
    "\n",
    "# Train the Neural Network model\n",
    "nn_model = MLPClassifier()\n",
    "nn_model.fit(X_train, y_train)\n",
    "nn_predictions = nn_model.predict(X_test) "
   ]
  },
  {
   "cell_type": "markdown",
   "id": "26c166c5",
   "metadata": {},
   "source": [
    "# Model Evaluation\n",
    "sklearn.metrics.recall_score\n",
    "sklearn.metrics.precision_score\n",
    "confusion matrix??"
   ]
  },
  {
   "cell_type": "code",
   "execution_count": null,
   "id": "86d7931a",
   "metadata": {},
   "outputs": [],
   "source": [
    "# Evaluate the performance using sklearn.metrics.accuracy_score:\n",
    "from sklearn.metrics import accuracy_score\n",
    "\n",
    "rf_accuracy = accuracy_score(y_test, rf_predictions)\n",
    "nn_accuracy = accuracy_score(y_test, nn_predictions)\n",
    "\n",
    "print(rf_accuracy)\n",
    "print(nn_accuracy)"
   ]
  },
  {
   "cell_type": "code",
   "execution_count": null,
   "id": "cfe982c4",
   "metadata": {},
   "outputs": [],
   "source": [
    "# Evaluate the performance using sklearn.metrics.precision_score:\n",
    "from sklearn.metrics import precision_score\n",
    "\n",
    "rf_precision_score = precision_score(y_test, rf_predictions, average='binary')\n",
    "nn_precision_score = precision_score(y_test, nn_predictions, average='binary')\n",
    "\n",
    "print(rf_precision_score)\n",
    "print(nn_precision_score)"
   ]
  },
  {
   "cell_type": "code",
   "execution_count": null,
   "id": "d85e3035",
   "metadata": {},
   "outputs": [],
   "source": [
    "# using confusion matrix for Random Forest model: \n",
    "disp_rf = metrics.plot_confusion_matrix(rf_model, X_test, y_test, colorbar=False)\n",
    "disp_rf.figure_.suptitle(\"Confusion Matrix\")\n",
    "print(f\"Confusion matrix:\\n{disp_rf.confusion_matrix}\")\n",
    "\n",
    "plt.show()"
   ]
  },
  {
   "cell_type": "code",
   "execution_count": null,
   "id": "0112d2b1",
   "metadata": {},
   "outputs": [],
   "source": [
    "# using confusion matrix Neural Network model:\n",
    "disp_nn = metrics.plot_confusion_matrix(nn_model, X_test, y_test, colorbar=False)\n",
    "disp_nn.figure_.suptitle(\"Confusion Matrix\")\n",
    "print(f\"Confusion matrix:\\n{disp_nn.confusion_matrix}\")\n",
    "\n",
    "plt.show()"
   ]
  }
 ],
 "metadata": {
  "kernelspec": {
   "display_name": "Python 3 (ipykernel)",
   "language": "python",
   "name": "python3"
  },
  "language_info": {
   "codemirror_mode": {
    "name": "ipython",
    "version": 3
   },
   "file_extension": ".py",
   "mimetype": "text/x-python",
   "name": "python",
   "nbconvert_exporter": "python",
   "pygments_lexer": "ipython3",
   "version": "3.8.10"
  }
 },
 "nbformat": 4,
 "nbformat_minor": 5
}
